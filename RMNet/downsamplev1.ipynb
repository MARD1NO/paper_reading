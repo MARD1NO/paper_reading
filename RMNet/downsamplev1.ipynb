{
 "cells": [
  {
   "cell_type": "code",
   "execution_count": null,
   "id": "19f280ee",
   "metadata": {},
   "outputs": [],
   "source": [
    "import torch\n",
    "import torch.nn as nn\n",
    "import numpy as np"
   ]
  },
  {
   "cell_type": "code",
   "execution_count": null,
   "id": "7ba41369",
   "metadata": {},
   "outputs": [],
   "source": [
    "class OriginDownSample(nn.Module):\n",
    "    def __init__(self, planes):\n",
    "        super(OriginDownSample, self).__init__()\n",
    "        self.conv1 = nn.Conv2d(planes, planes * 2, kernel_size=3, stride=2, padding=1, bias=False)\n",
    "        self.relu1 = nn.ReLU()\n",
    "        self.conv2 = nn.Conv2d(planes * 2, planes * 2, kernel_size=3, stride=1, padding=1, bias=False)\n",
    "        self.down_sample = nn.Conv2d(planes, planes * 2, kernel_size=1, stride=2, bias=False)\n",
    "\n",
    "    def forward(self, x):\n",
    "        y = self.conv1(x)\n",
    "        y = self.relu1(y)\n",
    "        y = self.conv2(y)\n",
    "        return y + self.down_sample(x)"
   ]
  },
  {
   "cell_type": "code",
   "execution_count": null,
   "id": "cbfb3f81",
   "metadata": {},
   "outputs": [],
   "source": [
    "class RMDownSampleStage1(nn.Module):\n",
    "    def __init__(self, planes):\n",
    "        super(RMDownSampleStage1, self).__init__()\n",
    "        self.conv1 = nn.Conv2d(planes, planes * 2, kernel_size=3, stride=2, padding=1, bias=False)\n",
    "        # Equals to ReLU.\n",
    "        self.prelu1 = nn.PReLU(planes*2)\n",
    "        nn.init.zeros_(self.prelu1.weight)\n",
    "        self.conv2 = nn.Conv2d(planes * 2, planes * 2, kernel_size=3, stride=1, padding=1, bias=False)\n",
    "        self.down_sample1 = nn.Conv2d(planes, planes * 2, kernel_size=3, stride=2, padding=1, bias=False)\n",
    "        # Linear Activation.\n",
    "        self.prelu2 = nn.PReLU(planes*2)\n",
    "        nn.init.ones_(self.prelu2.weight)\n",
    "        self.down_sample2 = nn.Conv2d(planes * 2, planes * 2, kernel_size=3, stride=1, padding=1, bias=False)\n",
    "        nn.init.dirac_(self.down_sample2.weight)\n",
    "\n",
    "    def forward(self, x):\n",
    "        branchA = self.conv1(x)\n",
    "        branchA = self.prelu1(branchA)\n",
    "        branchA = self.conv2(branchA)\n",
    "\n",
    "        branchB = self.down_sample1(x)\n",
    "        branchB = self.prelu2(branchB)\n",
    "        branchB = self.down_sample2(branchB)\n",
    "        return branchA + branchB"
   ]
  },
  {
   "cell_type": "code",
   "execution_count": null,
   "id": "1739ff68",
   "metadata": {},
   "outputs": [],
   "source": [
    "class RMDownSampleStage2(nn.Module):\n",
    "    def __init__(self, planes):\n",
    "        super(RMDownSampleStage2, self).__init__()\n",
    "        self.conv1 = nn.Conv2d(planes, planes * 4, kernel_size=3, stride=2, padding=1, bias=False)\n",
    "        self.prelu1 = nn.PReLU(planes*4)\n",
    "        self.conv2 = nn.Conv2d(planes * 4, planes * 2, kernel_size=3, stride=1, padding=1, bias=False)\n",
    "\n",
    "    def forward(self, x):\n",
    "        y = self.conv1(x)\n",
    "        y = self.prelu1(y)\n",
    "        y = self.conv2(y)\n",
    "        return y"
   ]
  },
  {
   "cell_type": "code",
   "execution_count": null,
   "id": "f3ae706f",
   "metadata": {},
   "outputs": [],
   "source": [
    "planes = 2\n",
    "OriginResDownSample = OriginDownSample(planes)\n",
    "RMDownSample1 = RMDownSampleStage1(planes)\n",
    "RMDownSample2 = RMDownSampleStage2(planes)\n",
    "\"\"\"\n",
    "Do Some Initialization\n",
    "\"\"\"\n",
    "RMDownSample1.conv1.weight = OriginResDownSample.conv1.weight\n",
    "RMDownSample1.conv2.weight = OriginResDownSample.conv2.weight\n",
    "# Padding from zero value to convert 1x1 to 3x3 kernel\n",
    "RMDownSample1.down_sample1.weight = torch.nn.Parameter(\n",
    "                                        torch.nn.functional.pad(\n",
    "                                            OriginResDownSample.down_sample.weight.data, [1, 1, 1, 1], value=0.0)\n",
    "                                    )"
   ]
  },
  {
   "cell_type": "code",
   "execution_count": null,
   "id": "22779203",
   "metadata": {},
   "outputs": [],
   "source": [
    "# Test equality\n",
    "x = torch.Tensor(np.random.uniform(low=0.0, high=1, size=(1, planes, 4, 4)))\n",
    "original_res_output = OriginResDownSample(x)\n",
    "rmblock_output = RMDownSample1(x)\n",
    "print(\"RM output is equal?: \", np.allclose(original_res_output.detach().numpy(),\n",
    "                                           rmblock_output.detach().numpy(),\n",
    "                                           atol=1e-4))\n"
   ]
  },
  {
   "cell_type": "code",
   "execution_count": null,
   "id": "7fb0dd77",
   "metadata": {},
   "outputs": [],
   "source": [
    "\"\"\"\n",
    "Do Some Initialization\n",
    "\"\"\"\n",
    "RMDownSample2.conv1.weight = torch.nn.Parameter(\n",
    "                                torch.cat(\n",
    "                                    [RMDownSample1.conv1.weight, RMDownSample1.down_sample1.weight], dim=0)\n",
    "                            )\n",
    "RMDownSample2.prelu1.weight = torch.nn.Parameter(\n",
    "                                torch.cat(\n",
    "                                    [RMDownSample1.prelu1.weight, RMDownSample1.prelu2.weight], dim=0)\n",
    "                            )\n",
    "RMDownSample2.conv2.weight = torch.nn.Parameter(\n",
    "                                torch.cat(\n",
    "                                    [RMDownSample1.conv2.weight, RMDownSample1.down_sample2.weight], dim=1)\n",
    "                            )\n",
    "rmblock_outputv2 = RMDownSample2(x)\n",
    "print(\"RM output is equal?: \", np.allclose(rmblock_outputv2.detach().numpy(),\n",
    "                                           rmblock_output.detach().numpy(),\n",
    "                                           atol=1e-4))"
   ]
  }
 ],
 "metadata": {
  "kernelspec": {
   "display_name": "Python 3 (ipykernel)",
   "language": "python",
   "name": "python3"
  },
  "language_info": {
   "codemirror_mode": {
    "name": "ipython",
    "version": 3
   },
   "file_extension": ".py",
   "mimetype": "text/x-python",
   "name": "python",
   "nbconvert_exporter": "python",
   "pygments_lexer": "ipython3",
   "version": "3.9.7"
  }
 },
 "nbformat": 4,
 "nbformat_minor": 5
}
