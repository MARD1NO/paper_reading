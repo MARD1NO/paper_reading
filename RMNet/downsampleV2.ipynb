{
 "cells": [
  {
   "cell_type": "code",
   "execution_count": null,
   "id": "6d325c96",
   "metadata": {},
   "outputs": [],
   "source": [
    "import torch\n",
    "import torch.nn as nn\n",
    "import numpy as np"
   ]
  },
  {
   "cell_type": "code",
   "execution_count": null,
   "id": "cbccc8a4",
   "metadata": {},
   "outputs": [],
   "source": [
    "class OriginDownSample(nn.Module):\n",
    "    def __init__(self, planes):\n",
    "        super(OriginDownSample, self).__init__()\n",
    "        self.conv1 = nn.Conv2d(planes, planes * 2, kernel_size=3, stride=2, padding=1, bias=False)\n",
    "        self.relu1 = nn.ReLU()\n",
    "        self.conv2 = nn.Conv2d(planes * 2, planes * 2, kernel_size=3, stride=1, padding=1, bias=False)\n",
    "        self.down_sample = nn.Conv2d(planes, planes * 2, kernel_size=1, stride=2, bias=False)\n",
    "\n",
    "    def forward(self, x):\n",
    "        y = self.conv1(x)\n",
    "        y = self.relu1(y)\n",
    "        y = self.conv2(y)\n",
    "        return y + self.down_sample(x)"
   ]
  },
  {
   "cell_type": "code",
   "execution_count": null,
   "id": "2593f12a",
   "metadata": {},
   "outputs": [],
   "source": [
    "class RMDownSampleV2Stage1(nn.Module):\n",
    "    def __init__(self, planes):\n",
    "        super(RMDownSampleV2Stage1, self).__init__()\n",
    "        self.conv1 = nn.Conv2d(planes, planes * 2, kernel_size=3, stride=2, padding=1, bias=False)\n",
    "        self.relu1 = nn.ReLU()\n",
    "        self.conv2 = nn.Conv2d(planes * 2, planes * 2, kernel_size=3, stride=1, padding=1, bias=False)\n",
    "        self.identity_down_sample = nn.Conv2d(planes, planes, kernel_size=3, stride=2, padding=1, bias=False)\n",
    "        nn.init.dirac_(self.identity_down_sample.weight)\n",
    "        self.relu2 = nn.ReLU()\n",
    "        self.down_sample2 = nn.Conv2d(planes, planes * 2, kernel_size=3, stride=1, padding=1, bias=False)\n",
    "\n",
    "    def forward(self, x):\n",
    "        branchA = self.conv1(x)\n",
    "        branchA = self.relu1(branchA)\n",
    "        branchA = self.conv2(branchA)\n",
    "\n",
    "        branchB = self.identity_down_sample(x)\n",
    "        branchB = self.relu2(branchB)\n",
    "        branchB = self.down_sample2(branchB)\n",
    "\n",
    "        return branchA + branchB"
   ]
  },
  {
   "cell_type": "code",
   "execution_count": null,
   "id": "309da064",
   "metadata": {},
   "outputs": [],
   "source": [
    "class RMDownSampleV2Stage2(nn.Module):\n",
    "    def __init__(self, planes):\n",
    "        super(RMDownSampleV2Stage2, self).__init__()\n",
    "        self.conv1 = nn.Conv2d(planes, planes * 3, kernel_size=3, stride=2, padding=1, bias=False)\n",
    "        self.relu1 = nn.ReLU()\n",
    "        self.conv2 = nn.Conv2d(planes * 3, planes * 2, kernel_size=3, stride=1, padding=1, bias=False)\n",
    "\n",
    "    def forward(self, x):\n",
    "        y = self.conv1(x)\n",
    "        y = self.relu1(y)\n",
    "        y = self.conv2(y)\n",
    "        return y"
   ]
  },
  {
   "cell_type": "code",
   "execution_count": null,
   "id": "bd21f480",
   "metadata": {},
   "outputs": [],
   "source": [
    "planes = 2\n",
    "OriginResDownSample = OriginDownSample(planes)\n",
    "RMDownSample1 = RMDownSampleV2Stage1(planes)\n",
    "RMDownSample2 = RMDownSampleV2Stage2(planes)"
   ]
  },
  {
   "cell_type": "code",
   "execution_count": null,
   "id": "75419bf6",
   "metadata": {},
   "outputs": [],
   "source": [
    "\"\"\"\n",
    "Do Some Initialization\n",
    "\"\"\"\n",
    "RMDownSample1.conv1.weight = OriginResDownSample.conv1.weight\n",
    "RMDownSample1.conv2.weight = OriginResDownSample.conv2.weight\n",
    "# Padding from zero value to convert 1x1 to 3x3 kernel\n",
    "RMDownSample1.down_sample2.weight = torch.nn.Parameter(\n",
    "                                        torch.nn.functional.pad(\n",
    "                                            OriginResDownSample.down_sample.weight.data, [1, 1, 1, 1], value=0.0)\n",
    "                                    )"
   ]
  },
  {
   "cell_type": "code",
   "execution_count": null,
   "id": "7972e17f",
   "metadata": {},
   "outputs": [],
   "source": [
    "x = torch.Tensor(np.random.uniform(low=0.0, high=1, size=(1, planes, 4, 4)))\n",
    "original_res_output = OriginResDownSample(x)\n",
    "rmblock_output = RMDownSample1(x)\n",
    "print(\"RM output is equal?: \", np.allclose(original_res_output.detach().numpy(),\n",
    "                                           rmblock_output.detach().numpy(),\n",
    "                                           atol=1e-4))"
   ]
  },
  {
   "cell_type": "code",
   "execution_count": null,
   "id": "d51b4c03",
   "metadata": {},
   "outputs": [],
   "source": [
    "\"\"\"\n",
    "Do Some Initialization\n",
    "\"\"\"\n",
    "RMDownSample2.conv1.weight = torch.nn.Parameter(\n",
    "                                torch.cat(\n",
    "                                    [RMDownSample1.conv1.weight, RMDownSample1.identity_down_sample.weight], dim=0)\n",
    "                            )\n",
    "RMDownSample2.conv2.weight = torch.nn.Parameter(\n",
    "                                torch.cat(\n",
    "                                    [RMDownSample1.conv2.weight, RMDownSample1.down_sample2.weight], dim=1)\n",
    "                            )"
   ]
  },
  {
   "cell_type": "code",
   "execution_count": null,
   "id": "acdbe2e6",
   "metadata": {},
   "outputs": [],
   "source": [
    "rmblock_outputv2 = RMDownSample2(x)\n",
    "print(\"RM output is equal?: \", np.allclose(rmblock_output.detach().numpy(),\n",
    "                                           rmblock_outputv2.detach().numpy(),\n",
    "                                           atol=1e-4))"
   ]
  }
 ],
 "metadata": {
  "kernelspec": {
   "display_name": "Python 3 (ipykernel)",
   "language": "python",
   "name": "python3"
  },
  "language_info": {
   "codemirror_mode": {
    "name": "ipython",
    "version": 3
   },
   "file_extension": ".py",
   "mimetype": "text/x-python",
   "name": "python",
   "nbconvert_exporter": "python",
   "pygments_lexer": "ipython3",
   "version": "3.9.7"
  }
 },
 "nbformat": 4,
 "nbformat_minor": 5
}
