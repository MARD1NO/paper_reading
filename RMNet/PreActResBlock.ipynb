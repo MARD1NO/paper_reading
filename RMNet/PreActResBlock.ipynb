{
 "cells": [
  {
   "cell_type": "code",
   "execution_count": null,
   "id": "cc68b42a",
   "metadata": {},
   "outputs": [],
   "source": [
    "import torch\n",
    "import torch.nn as nn\n",
    "import numpy as np"
   ]
  },
  {
   "cell_type": "code",
   "execution_count": null,
   "id": "5e824af6",
   "metadata": {},
   "outputs": [],
   "source": [
    "class OriginPreActBlock(nn.Module):\n",
    "    def __init__(self, planes):\n",
    "        super(OriginPreActBlock, self).__init__()\n",
    "        self.conv1 = torch.nn.Conv2d(planes, planes, kernel_size=3, padding=1, bias=False)\n",
    "        self.relu1 = torch.nn.ReLU()\n",
    "        self.conv2 = torch.nn.Conv2d(planes, planes, kernel_size=3, padding=1, bias=False)\n",
    "\n",
    "    def forward(self, x):\n",
    "        y = self.conv1(x)\n",
    "        y = self.relu1(y)\n",
    "        y = self.conv2(y)\n",
    "        return y + x"
   ]
  },
  {
   "cell_type": "code",
   "execution_count": null,
   "id": "c4bc5cc4",
   "metadata": {},
   "outputs": [],
   "source": [
    "class RMBlock(nn.Module):\n",
    "    def __init__(self, planes):\n",
    "        super(RMBlock, self).__init__()\n",
    "        self.mid_planes = planes * 2\n",
    "        self.Idenconv = torch.nn.Conv2d(planes, self.mid_planes, kernel_size=1, bias=False)\n",
    "        nn.init.dirac_(self.Idenconv.weight.data[:planes])\n",
    "        nn.init.dirac_(self.Idenconv.weight.data[planes:])\n",
    "\n",
    "        self.conv1 = torch.nn.Conv2d(self.mid_planes, self.mid_planes, kernel_size=3, padding=1, bias=False)\n",
    "        self.prelu = torch.nn.PReLU(self.mid_planes)\n",
    "        torch.nn.init.ones_(self.prelu.weight.data[:planes])\n",
    "        torch.nn.init.zeros_(self.prelu.weight.data[planes:])\n",
    "        self.conv2 = torch.nn.Conv2d(self.mid_planes, planes, kernel_size=3, padding=1, bias=False)\n",
    "\n",
    "    def forward(self, x):\n",
    "        y = self.Idenconv(x)\n",
    "        y = self.conv1(y)\n",
    "        y = self.prelu(y)\n",
    "        y = self.conv2(y)\n",
    "        return y"
   ]
  },
  {
   "cell_type": "code",
   "execution_count": null,
   "id": "d878551a",
   "metadata": {},
   "outputs": [],
   "source": [
    "planes = 2\n",
    "OriginResBlock = OriginPreActBlock(planes)\n",
    "RMResBlock = RMBlock(planes)"
   ]
  },
  {
   "cell_type": "code",
   "execution_count": null,
   "id": "e13e40dc",
   "metadata": {},
   "outputs": [],
   "source": [
    "\"\"\"\n",
    "Do some initialization\n",
    "\"\"\"\n",
    "# For conv1\n",
    "nn.init.dirac_(RMResBlock.conv1.weight.data[:planes])  # Oc, Ic, K, K\n",
    "torch.nn.init.zeros_(RMResBlock.conv1.weight.data[planes:][:, :planes])\n",
    "RMResBlock.conv1.weight.data[planes:][:, planes:] = OriginResBlock.conv1.weight.data\n",
    "# For conv2\n",
    "nn.init.dirac_(RMResBlock.conv2.weight.data[:, :planes])  # Oc, Ic, K, K\n",
    "RMResBlock.conv2.weight.data[:, planes:] = OriginResBlock.conv2.weight.data"
   ]
  },
  {
   "cell_type": "code",
   "execution_count": null,
   "id": "afec0c98",
   "metadata": {},
   "outputs": [],
   "source": [
    "x = torch.Tensor(np.random.uniform(low=-1, high=1, size=(1, planes, 4, 4)))\n",
    "original_res_output = OriginResBlock(x)\n",
    "rmblock_output = RMResBlock(x)\n",
    "print(\"RM output is equal?: \", np.allclose(original_res_output.detach().numpy(), rmblock_output.detach().numpy(), atol=1e-4))"
   ]
  }
 ],
 "metadata": {
  "kernelspec": {
   "display_name": "Python 3 (ipykernel)",
   "language": "python",
   "name": "python3"
  },
  "language_info": {
   "codemirror_mode": {
    "name": "ipython",
    "version": 3
   },
   "file_extension": ".py",
   "mimetype": "text/x-python",
   "name": "python",
   "nbconvert_exporter": "python",
   "pygments_lexer": "ipython3",
   "version": "3.9.7"
  }
 },
 "nbformat": 4,
 "nbformat_minor": 5
}
